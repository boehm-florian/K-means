{
 "cells": [
  {
   "cell_type": "markdown",
   "metadata": {},
   "source": [
    " # Introduction\n",
    "\n",
    " This usecase gives a first introduction to cluster analysis using the K-means\n",
    " algorithm. A fictitious insurance portfolio with 1200 data records is used,\n",
    " which has only 3 characteristics, namely age, sex and sum assured. The aim is\n",
    " to get a first overview of the data, to determine the optimal number of clusters\n",
    " by visual methods and to find them with the help of the k-means method. \n",
    " \n",
    " # General Settings\n",
    "\n",
    " The pacman package is an R package management tool for loading and installing\n",
    " packages if necessary. The following packages are used for the data generation: \n",
    "  \n",
    " - **data.table:** For filtering, grouping and transforming the data as well\n",
    " as fast read and write opterations. This package is particularly suitable for\n",
    " the fast processing of large amounts of data. \n",
    " ^[https://www.rdocumentation.org/packages/data.table/versions/1.12.2]\n",
    " - **dplyr:** This package is a grammar of data manipulation, providing a consistent\n",
    " set of verbs that help you solve the most common data manipulation challenges.\n",
    " We need it especially for the use of the pipe operator.\n",
    " ^[https://www.rdocumentation.org/packages/dplyr/versions/0.7.8]\n",
    " - **rmarkdown:** R Markdown provides an authoring framework for data science.\n",
    " One can use a single R Markdown file to save and execute code and generate high\n",
    " quality reports that can be shared with an audience.\n",
    " ^[https://www.rdocumentation.org/packages/rmarkdown/versions/1.14]\n",
    " - **ggplot2:** ggplot2 is a system for declaratively creating graphics, based\n",
    " on The Grammar of Graphics. \n",
    " ^[https://www.rdocumentation.org/packages/ggplot2/versions/3.2.1]\n",
    " - **gridExtra:** Provides a number of user-level functions to work with \"grid\"\n",
    " graphics, notably to arrange multiple grid-based plots on a page, and draw tables.\n",
    " ^[https://www.rdocumentation.org/packages/gridExtra/versions/2.3]\n",
    "\n",
    "\n",
    "\n",
    " We suppress the warning for the `pacman` library because the message that the \n",
    " package was built under a different R-versions should not bother the user by\n",
    " beeing displayed on the console in red. Then the required packages are loaded\n",
    " and installed if necessary. \n",
    " "
   ]
  },
  {
   "cell_type": "code",
   "execution_count": null,
   "metadata": {},
   "outputs": [],
   "source": [
    "suppressWarnings(if (!require(\"pacman\")) install.packages(\"pacman\"))\n",
    "pacman::p_load(data.table, dplyr, rmarkdown, ggplot2, gridExtra)"
   ]
  },
  {
   "cell_type": "markdown",
   "metadata": {},
   "source": [
    " For the analysis of the data functions are used which work with random numbers.\n",
    " To make the results reproducible the random number generator is initialized \n",
    " with an arbitrary number (here 100) to ensure that the random numbers are the\n",
    " same at every program run. "
   ]
  },
  {
   "cell_type": "code",
   "execution_count": null,
   "metadata": {},
   "outputs": [],
   "source": [
    "set.seed(100)"
   ]
  },
  {
   "cell_type": "markdown",
   "metadata": {},
   "source": [
    " # Data preparation\n",
    "\n",
    " The data is read in and a first check is performed to evaluate the structure \n",
    " of the data. It turns out that the data set contains 1200 observations with 4\n",
    " variables each, namely sex, age, sum assured and ID. The variable ID is a \n",
    " consecutive number that uniquely identifies each contract. "
   ]
  },
  {
   "cell_type": "code",
   "execution_count": null,
   "metadata": {},
   "outputs": [],
   "source": [
    "raw_data <- fread(\"./data/insurance_portfolio.txt\")\n",
    "raw_data %>% str()"
   ]
  },
  {
   "cell_type": "markdown",
   "metadata": {},
   "source": [
    " Since there can be only 2 different values for the variable sex, namely male \n",
    " and female, this variable is defined as a factor. "
   ]
  },
  {
   "cell_type": "code",
   "execution_count": null,
   "metadata": {},
   "outputs": [],
   "source": [
    "raw_data[, sex := as.factor(sex)]"
   ]
  },
  {
   "cell_type": "markdown",
   "metadata": {},
   "source": [
    " A more detailed analysis of the input data using the `summary` function shows that:\n",
    " \n",
    " 1. The portfolio consists of 600 female and 600 male policyholders.\n",
    " \n",
    " 2. The age is between 8 and 87 years, which suggests that there are no \n",
    " implausible data points.\n",
    " \n",
    " 3. There are 10 policyholders whose age is indicated with NA. This indicates \n",
    " missing or incomplete data.\n",
    " \n",
    " 4. The sums insured are between 5119 and 61485. If one looks at the quantiles,\n",
    " the minimum and maximum values, one can see that at first glance there are no\n",
    " extreme outliers. Another good way to analyze the portfolio is the visual \n",
    " inspection that is performed in one of the next steps."
   ]
  },
  {
   "cell_type": "code",
   "execution_count": null,
   "metadata": {},
   "outputs": [],
   "source": [
    "raw_data %>% summary()"
   ]
  },
  {
   "cell_type": "markdown",
   "metadata": {},
   "source": [
    " As already stated, there are 10 data points that have no values for age. These\n",
    " 10 data points will be removed for further analysis in order to work with a\n",
    " cleaned dataset. "
   ]
  },
  {
   "cell_type": "code",
   "execution_count": null,
   "metadata": {},
   "outputs": [],
   "source": [
    "clean_data <- raw_data[!is.na(age),]"
   ]
  },
  {
   "cell_type": "markdown",
   "metadata": {},
   "source": [
    " ## Visual inspection\n",
    " After a first overview of the data has already been given, the visual inspection\n",
    " is carried out. For this purpose, the sum insured is plotted against age in a\n",
    " point plot. The previous assumption that there are no outliers can be confirmed \n",
    " visually and new knowledge about the data structure can be gained. A total of\n",
    " 4 different clusters can be identified as seen in the plot below with 3 of them\n",
    " nearly circular and the fourth one on the bottom on the plot strongly elliptical.\n",
    " \n",
    "  - A cluster shows policies with a sum insured of about 10.000 and ages in the\n",
    "   entire range of  observations. \n",
    "   \n",
    "  - Another cluster are those policies that have an insurance sum of approximately\n",
    "   30.000 to 50.000 and an age of approximately 22. \n",
    "   \n",
    "  - The next cluster covers policies with an sum insured in the range of 20.000 \n",
    "   up to 50.000 and an age of 40 to 50.\n",
    "   \n",
    "  - The last cluster is a little more inhomogeneous than the others in terms of \n",
    "   both age and sum insured. It covers ages from 60 to 80 and sums insured from\n",
    "   25.000 to 60.000."
   ]
  },
  {
   "cell_type": "code",
   "execution_count": null,
   "metadata": {},
   "outputs": [],
   "source": [
    "ggplot(data = clean_data, aes(x = age, y = sum_assured)) + geom_point()"
   ]
  },
  {
   "cell_type": "markdown",
   "metadata": {},
   "source": [
    " In the previous plot, all data points were viewed in a single graph. In the \n",
    " next step a point plot is created, separated into men and women. It is important\n",
    " to note that the scaling of the two plots is the same. It becomes apparent that\n",
    " there are now 6 clusters for both men and women. The single elliptical cluster with\n",
    " an insured sum of approximately 10000 is now divided into 3 different age groups. \n",
    " Each of these 3 newly formed clusters is almost circular shaped. "
   ]
  },
  {
   "cell_type": "code",
   "execution_count": null,
   "metadata": {},
   "outputs": [],
   "source": [
    "ggplot(data = clean_data, aes(x = age, y = sum_assured)) +\n",
    "  geom_point() +\n",
    "  facet_grid(cols = vars(sex))"
   ]
  },
  {
   "cell_type": "markdown",
   "metadata": {},
   "source": [
    " The same information can also be obtained by coloring the data points according\n",
    " to their sex with men displayed in blue and women in red."
   ]
  },
  {
   "cell_type": "code",
   "execution_count": null,
   "metadata": {},
   "outputs": [],
   "source": [
    "ggplot(data = clean_data, aes(x = age, y = sum_assured, color = sex)) +\n",
    "  geom_point()"
   ]
  },
  {
   "cell_type": "markdown",
   "metadata": {},
   "source": [
    " # K-means\n",
    " Processing and summarizing large amounts of data to find hidden patterns is a \n",
    " topic of interest in many different areas. K means is a suitable algorithm that \n",
    " divides the data set into a previously known number of $k$ groups. The aim is of \n",
    " course to find an optimal partition which need to be further defined. The data\n",
    " set must be divided into $k$ partitions so that the sum of the squared deviations\n",
    " from the cluster centers to all data points assigned to the corresponding cluster\n",
    " is minimal. Mathematically, this corresponds to the optimization of a distance \n",
    " function: \n",
    " \n",
    " Given a set of $n$ observations $(\\textbf{x}_1, \\textbf{x}_2, ..., \\textbf{x}_n)$\n",
    " with $\\textbf{x}_i \\in \\mathbb{R}^k$, the $k$-means algorithm partitions the $n$\n",
    " observations into $k \\leq n$ sets $C = \\{C_1, C_2, ..., C_k\\}$ such that \n",
    " ^[https://en.wikipedia.org/wiki/K-means_clustering]\n",
    "  $$\\underset{C}{arg~min}\\sum_{j=1}^k\\sum_{x \\in C_j}\\lVert \\textbf{x} - {\\mu}_j \\rVert^2$$\n",
    "  \n",
    "\n",
    " The K-means algorithm is already implemented by default and can be called using\n",
    " the function `kmeans`. In a first step, the algorithm is applied to the unscaled \n",
    " values for the age and the sum insured, without distinguishing between the sexes.\n",
    " The number of clusters is successively increased from 1 to 4 and the results\n",
    " are displayed graphically. All data points belonging to the same cluster are\n",
    " displayed in the same color and the cluster centers are indicated by black diamonds.\n",
    " Since K-means randomly selects the cluster centers in the first step, the\n",
    " algorithm is executed 50 times `nstart = 50L` and the best partitioning is selected. \n"
   ]
  },
  {
   "cell_type": "code",
   "execution_count": null,
   "metadata": {},
   "outputs": [],
   "source": [
    "lPlots <- lapply(1:4, function(k) {\n",
    "  k_resut <- kmeans(clean_data[, .(age, sum_assured)],\n",
    "                    k,\n",
    "                    nstart = 50L,\n",
    "                    iter.max = 100L)\n",
    "  plot_centers <- k_resut$centers %>% as.data.table()\n",
    "  ggplot() +\n",
    "    geom_point(\n",
    "      data = clean_data,\n",
    "      aes(\n",
    "        x = age,\n",
    "        y = sum_assured,\n",
    "        color = as.factor(k_resut$cluster)\n",
    "      ),\n",
    "      show.legend = FALSE\n",
    "    ) +\n",
    "    geom_point(\n",
    "      data = plot_centers,\n",
    "      aes(x = age, y = sum_assured),\n",
    "      size = 3L,  # filled diamonds\n",
    "      shape = 18L \n",
    "    )\n",
    "})"
   ]
  },
  {
   "cell_type": "markdown",
   "metadata": {},
   "source": [
    " After all results have been generated, they are arranged in a single plot.\n",
    " It is obvious that the algorithm does not seem to be able to recognize the 4 \n",
    " existing clusters correctly. It is rather noticeable that the data set is\n",
    " divided into horizontal slices and apparently no consideration is given to\n",
    " the different age structures. Also a further increase of the number of clusters\n",
    " does not bring any improvement but leads to a more granular horizontal clustering\n",
    " of the data set. "
   ]
  },
  {
   "cell_type": "code",
   "execution_count": null,
   "metadata": {},
   "outputs": [],
   "source": [
    "do.call(\"grid.arrange\", c(lPlots, ncol = 2))"
   ]
  },
  {
   "cell_type": "markdown",
   "metadata": {},
   "source": [
    " A hint why clustering did not work as expected is given by the form of the cluster.\n",
    " Those should be circular, but in this case they are strongly elliptical. As \n",
    " defined above, the algorithm minimizes the quadratic deviations. The age in the\n",
    " data set has a value range from 8 to 87 and the sum assured has a value range\n",
    " from 5119 to 61485. Therefore, it is not surprising that the algorithm tries \n",
    " to find clusters that have a very similar sum insured, since deviations in this\n",
    " dimension are strongly reflected in the minimization function. One way to solve\n",
    " this problem is to scale the input data. \n",
    " \n",
    "\n",
    " One of the many ways to scale the data is to use a z-transformation. The mean\n",
    " value and the standard deviation are calculated for both the age and the sum\n",
    " insured and then applied to the individual data points as follows:\n",
    " ^[https://en.wikipedia.org/wiki/Standard_score]\n",
    "  $$x' = \\frac{x - \\bar{x}}{\\sigma}$$"
   ]
  },
  {
   "cell_type": "code",
   "execution_count": null,
   "metadata": {},
   "outputs": [],
   "source": [
    "cols <- c(\"age\", \"sum_assured\")\n",
    "clean_data_scaled <- clean_data[, (cols) := lapply(.SD, scale), .SDcols = cols]"
   ]
  },
  {
   "cell_type": "markdown",
   "metadata": {},
   "source": [
    " If one graphically displays the scaled data as before, one can see that the \n",
    " cluster structure as well as the number of clusters determined previously has\n",
    " remained the same. However, it can also be seen that the axis scaling has \n",
    " changed and now the values on the x and y axes have a similar value range. "
   ]
  },
  {
   "cell_type": "code",
   "execution_count": null,
   "metadata": {},
   "outputs": [],
   "source": [
    "ggplot(data = clean_data_scaled, aes(x = age, y = sum_assured, color = sex)) +\n",
    "  geom_point()"
   ]
  },
  {
   "cell_type": "markdown",
   "metadata": {},
   "source": [
    " If k-means is now applied to the transformed data and the number of clusters\n",
    " is gradually increased from 1 to 6, a different behavior can be noticed. "
   ]
  },
  {
   "cell_type": "code",
   "execution_count": null,
   "metadata": {},
   "outputs": [],
   "source": [
    "lPlots_scaled <- lapply(1:6, function(k) {\n",
    "  k_resut <- kmeans(clean_data_scaled[, .(age, sum_assured)],\n",
    "                    k,\n",
    "                    nstart = 50L,\n",
    "                    iter.max = 100L)\n",
    "  plot_centers <- k_resut$centers %>% as.data.table()\n",
    "  ggplot() +\n",
    "    geom_point(\n",
    "      data = clean_data_scaled,\n",
    "      aes(\n",
    "        x = age,\n",
    "        y = sum_assured,\n",
    "        color = as.factor(k_resut$cluster)\n",
    "      ),\n",
    "      show.legend = FALSE\n",
    "    ) +\n",
    "    geom_point(\n",
    "      data = plot_centers,\n",
    "      aes(x = age, y = sum_assured),\n",
    "      size = 3L,  # filled diamonds\n",
    "      shape = 18L \n",
    "    )\n",
    "})"
   ]
  },
  {
   "cell_type": "markdown",
   "metadata": {},
   "source": [
    " The following conclusions can be drawn from the graphical representation of the\n",
    " cluster results:\n",
    "\n",
    "\n",
    " - The data is no longer clustered into horizontal slices as before. This is\n",
    "   particularly noticeable starting with a minimum of 3 clusters.  \n",
    " - With a $k$ of 4 the algorithm is not able to recognize the clusters as desired. \n",
    "   In particular, the cluster at the bottom of the image, which extends over the\n",
    "   entire age range, is wrongly divided into 2 different clusters.    \n",
    " - Staring with a $k$ of 5 all three clusters in the upper half of the image \n",
    "   are clustered correctly. It is noteable that as a side effect the cluster\n",
    "   in the bottom of the image is arbitrarily split into multiple clusters."
   ]
  },
  {
   "cell_type": "code",
   "execution_count": null,
   "metadata": {},
   "outputs": [],
   "source": [
    "do.call(\"grid.arrange\", c(lPlots_scaled, ncol = 2))"
   ]
  },
  {
   "cell_type": "markdown",
   "metadata": {},
   "source": [
    " After the analysis has been carried out independently of gender, a gender-specific\n",
    " clustering of the portfolio is carried out in the last part. To this end, all\n",
    " the findings gathered so far, such as the need for scaling, are taken into account.\n",
    " The findings of the visual inspection are also used, which have shown that 6 \n",
    " clusters can be observed for each sex. For this reason, the final analysis is\n",
    " started with $k = 6$.  "
   ]
  },
  {
   "cell_type": "code",
   "execution_count": null,
   "metadata": {},
   "outputs": [],
   "source": [
    "lPlots_sex <- lapply(c(\"m\", \"f\"), function(x) {\n",
    "  k_resut <- kmeans(clean_data_scaled[sex == x, .(age, sum_assured)],\n",
    "                    6, # search for six clusters\n",
    "                    nstart = 50L,\n",
    "                    iter.max = 100L)\n",
    "  plot_centers <- k_resut$centers %>% as.data.table()\n",
    "  ggplot() +\n",
    "    geom_point(\n",
    "      data = clean_data_scaled[sex == x, ],\n",
    "      aes(\n",
    "        x = age,\n",
    "        y = sum_assured,\n",
    "        color = as.factor(k_resut$cluster)\n",
    "      ),\n",
    "      show.legend = FALSE\n",
    "    ) +\n",
    "    geom_point(\n",
    "      data = plot_centers,\n",
    "      aes(x = age, y = sum_assured),\n",
    "      size = 3L,  # filled diamonds\n",
    "      shape = 18L \n",
    "    )\n",
    "})"
   ]
  },
  {
   "cell_type": "markdown",
   "metadata": {},
   "source": [
    " The result of the K-means algorithm is now exactly what was expected. The 6 \n",
    " correct clusters could be identified for both male and female policyholders \n",
    " as shown in the graph below. "
   ]
  },
  {
   "cell_type": "code",
   "execution_count": null,
   "metadata": {},
   "outputs": [],
   "source": [
    "do.call(\"grid.arrange\", c(lPlots_sex, ncol = 2))"
   ]
  },
  {
   "cell_type": "markdown",
   "metadata": {},
   "source": [
    "\n",
    " For data sets in which a visual inspection of the data is not effective or is \n",
    " not feasible due to the higher dimensionality, there are different methods to\n",
    " determine the optimal number of clusters. "
   ]
  },
  {
   "cell_type": "code",
   "execution_count": null,
   "metadata": {},
   "outputs": [],
   "source": []
  }
 ],
 "metadata": {
  "kernelspec": {
   "display_name": "R",
   "language": "R",
   "name": "ir"
  },
  "language_info": {
   "codemirror_mode": "r",
   "file_extension": ".r",
   "mimetype": "text/x-r-source",
   "name": "R",
   "pygments_lexer": "r",
   "version": "3.6.0"
  }
 },
 "nbformat": 4,
 "nbformat_minor": 2
}
